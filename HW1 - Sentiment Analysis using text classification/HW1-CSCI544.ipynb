{
 "cells": [
  {
   "cell_type": "markdown",
   "metadata": {},
   "source": [
    "**Name: Nidhi Rajkumar Saini<br>\n",
    "USC ID: 3730422872**"
   ]
  },
  {
   "cell_type": "markdown",
   "metadata": {},
   "source": [
    "## Import required libraries"
   ]
  },
  {
   "cell_type": "code",
   "execution_count": 1,
   "metadata": {},
   "outputs": [],
   "source": [
    "import pandas as pd\n",
    "import numpy as np\n",
    "import nltk\n",
    "import re\n",
    "from bs4 import BeautifulSoup\n",
    "\n",
    "import contractions\n",
    "from nltk.corpus import stopwords\n",
    "nltk.download('stopwords', quiet = True)\n",
    "from nltk.tokenize import word_tokenize\n",
    "from nltk.stem import WordNetLemmatizer\n",
    "from sklearn.feature_extraction.text import TfidfVectorizer\n",
    "from sklearn.model_selection import train_test_split\n",
    "\n",
    "from sklearn.metrics import accuracy_score\n",
    "from sklearn.metrics import precision_score\n",
    "from sklearn.metrics import recall_score\n",
    "from sklearn.metrics import f1_score\n",
    "from sklearn.linear_model import Perceptron\n",
    "from sklearn.pipeline import make_pipeline\n",
    "from sklearn.preprocessing import StandardScaler\n",
    "from sklearn.svm import LinearSVC\n",
    "from sklearn.linear_model import LogisticRegression\n",
    "from sklearn.naive_bayes import MultinomialNB\n",
    "\n",
    "import warnings\n",
    "warnings.filterwarnings('ignore')"
   ]
  },
  {
   "cell_type": "code",
   "execution_count": 2,
   "metadata": {},
   "outputs": [],
   "source": [
    "#! pip install bs4 # in case you don't have it installed\n",
    "\n",
    "# Dataset: https://s3.amazonaws.com/amazon-reviews-pds/tsv/amazon_reviews_us_Kitchen_v1_00.tsv.gz"
   ]
  },
  {
   "cell_type": "markdown",
   "metadata": {},
   "source": [
    "## Read Data"
   ]
  },
  {
   "cell_type": "markdown",
   "metadata": {},
   "source": [
    "- Used pandas read_csv method to read the Amazon reviews dataset .gz file into a pandas dataframe. The compression parameter for this method is set to infer by default, which can automatically infer the kind of files i.e gzip , zip , bz2 , xz from the file extension.\n",
    "- error_bad_lines is used to drop lines with too many fields (e.g. a csv line with too many commas).\n",
    "- warn_bad_lines is used to supress the logs showing skipped lines.\n",
    "- pandas.DataFrame.head method returns the first n rows of the dataframe."
   ]
  },
  {
   "cell_type": "code",
   "execution_count": 3,
   "metadata": {},
   "outputs": [
    {
     "data": {
      "text/html": [
       "<div>\n",
       "<style scoped>\n",
       "    .dataframe tbody tr th:only-of-type {\n",
       "        vertical-align: middle;\n",
       "    }\n",
       "\n",
       "    .dataframe tbody tr th {\n",
       "        vertical-align: top;\n",
       "    }\n",
       "\n",
       "    .dataframe thead th {\n",
       "        text-align: right;\n",
       "    }\n",
       "</style>\n",
       "<table border=\"1\" class=\"dataframe\">\n",
       "  <thead>\n",
       "    <tr style=\"text-align: right;\">\n",
       "      <th></th>\n",
       "      <th>marketplace</th>\n",
       "      <th>customer_id</th>\n",
       "      <th>review_id</th>\n",
       "      <th>product_id</th>\n",
       "      <th>product_parent</th>\n",
       "      <th>product_title</th>\n",
       "      <th>product_category</th>\n",
       "      <th>star_rating</th>\n",
       "      <th>helpful_votes</th>\n",
       "      <th>total_votes</th>\n",
       "      <th>vine</th>\n",
       "      <th>verified_purchase</th>\n",
       "      <th>review_headline</th>\n",
       "      <th>review_body</th>\n",
       "      <th>review_date</th>\n",
       "    </tr>\n",
       "  </thead>\n",
       "  <tbody>\n",
       "    <tr>\n",
       "      <th>0</th>\n",
       "      <td>US</td>\n",
       "      <td>37000337</td>\n",
       "      <td>R3DT59XH7HXR9K</td>\n",
       "      <td>B00303FI0G</td>\n",
       "      <td>529320574</td>\n",
       "      <td>Arthur Court Paper Towel Holder</td>\n",
       "      <td>Kitchen</td>\n",
       "      <td>5.0</td>\n",
       "      <td>0.0</td>\n",
       "      <td>0.0</td>\n",
       "      <td>N</td>\n",
       "      <td>Y</td>\n",
       "      <td>Beautiful. Looks great on counter</td>\n",
       "      <td>Beautiful.  Looks great on counter.</td>\n",
       "      <td>2015-08-31</td>\n",
       "    </tr>\n",
       "    <tr>\n",
       "      <th>1</th>\n",
       "      <td>US</td>\n",
       "      <td>15272914</td>\n",
       "      <td>R1LFS11BNASSU8</td>\n",
       "      <td>B00JCZKZN6</td>\n",
       "      <td>274237558</td>\n",
       "      <td>Olde Thompson Bavaria Glass Salt and Pepper Mi...</td>\n",
       "      <td>Kitchen</td>\n",
       "      <td>5.0</td>\n",
       "      <td>0.0</td>\n",
       "      <td>1.0</td>\n",
       "      <td>N</td>\n",
       "      <td>Y</td>\n",
       "      <td>Awesome &amp; Self-ness</td>\n",
       "      <td>I personally have 5 days sets and have also bo...</td>\n",
       "      <td>2015-08-31</td>\n",
       "    </tr>\n",
       "    <tr>\n",
       "      <th>2</th>\n",
       "      <td>US</td>\n",
       "      <td>36137863</td>\n",
       "      <td>R296RT05AG0AF6</td>\n",
       "      <td>B00JLIKA5C</td>\n",
       "      <td>544675303</td>\n",
       "      <td>Progressive International PL8 Professional Man...</td>\n",
       "      <td>Kitchen</td>\n",
       "      <td>5.0</td>\n",
       "      <td>0.0</td>\n",
       "      <td>0.0</td>\n",
       "      <td>N</td>\n",
       "      <td>Y</td>\n",
       "      <td>Fabulous and worth every penny</td>\n",
       "      <td>Fabulous and worth every penny. Used for clean...</td>\n",
       "      <td>2015-08-31</td>\n",
       "    </tr>\n",
       "  </tbody>\n",
       "</table>\n",
       "</div>"
      ],
      "text/plain": [
       "  marketplace  customer_id       review_id  product_id  product_parent  \\\n",
       "0          US     37000337  R3DT59XH7HXR9K  B00303FI0G       529320574   \n",
       "1          US     15272914  R1LFS11BNASSU8  B00JCZKZN6       274237558   \n",
       "2          US     36137863  R296RT05AG0AF6  B00JLIKA5C       544675303   \n",
       "\n",
       "                                       product_title product_category  \\\n",
       "0                    Arthur Court Paper Towel Holder          Kitchen   \n",
       "1  Olde Thompson Bavaria Glass Salt and Pepper Mi...          Kitchen   \n",
       "2  Progressive International PL8 Professional Man...          Kitchen   \n",
       "\n",
       "   star_rating  helpful_votes  total_votes vine verified_purchase  \\\n",
       "0          5.0            0.0          0.0    N                 Y   \n",
       "1          5.0            0.0          1.0    N                 Y   \n",
       "2          5.0            0.0          0.0    N                 Y   \n",
       "\n",
       "                     review_headline  \\\n",
       "0  Beautiful. Looks great on counter   \n",
       "1                Awesome & Self-ness   \n",
       "2     Fabulous and worth every penny   \n",
       "\n",
       "                                         review_body review_date  \n",
       "0                Beautiful.  Looks great on counter.  2015-08-31  \n",
       "1  I personally have 5 days sets and have also bo...  2015-08-31  \n",
       "2  Fabulous and worth every penny. Used for clean...  2015-08-31  "
      ]
     },
     "execution_count": 3,
     "metadata": {},
     "output_type": "execute_result"
    }
   ],
   "source": [
    "df = pd.read_csv('https://s3.amazonaws.com/amazon-reviews-pds/tsv/amazon_reviews_us_Kitchen_v1_00.tsv.gz', sep=\"\\t\", error_bad_lines = False, warn_bad_lines = False)\n",
    "df.head(3)"
   ]
  },
  {
   "cell_type": "markdown",
   "metadata": {},
   "source": [
    "## Keep Reviews and Ratings"
   ]
  },
  {
   "cell_type": "markdown",
   "metadata": {},
   "source": [
    "- Selected only the required Reviews and Ratings fields from the input dataframe and renamed them as 'reviews' and 'ratings' respectively.\n",
    "- Used pandas.DataFrame.sample method to return a random sample of n rows of the dataframe."
   ]
  },
  {
   "cell_type": "code",
   "execution_count": 4,
   "metadata": {},
   "outputs": [
    {
     "data": {
      "text/html": [
       "<div>\n",
       "<style scoped>\n",
       "    .dataframe tbody tr th:only-of-type {\n",
       "        vertical-align: middle;\n",
       "    }\n",
       "\n",
       "    .dataframe tbody tr th {\n",
       "        vertical-align: top;\n",
       "    }\n",
       "\n",
       "    .dataframe thead th {\n",
       "        text-align: right;\n",
       "    }\n",
       "</style>\n",
       "<table border=\"1\" class=\"dataframe\">\n",
       "  <thead>\n",
       "    <tr style=\"text-align: right;\">\n",
       "      <th></th>\n",
       "      <th>ratings</th>\n",
       "      <th>reviews</th>\n",
       "    </tr>\n",
       "  </thead>\n",
       "  <tbody>\n",
       "    <tr>\n",
       "      <th>3764510</th>\n",
       "      <td>5.0</td>\n",
       "      <td>Not much to say here other than it works. Our ...</td>\n",
       "    </tr>\n",
       "    <tr>\n",
       "      <th>2264428</th>\n",
       "      <td>5.0</td>\n",
       "      <td>Very stylish and useful.</td>\n",
       "    </tr>\n",
       "    <tr>\n",
       "      <th>4253177</th>\n",
       "      <td>3.0</td>\n",
       "      <td>this does work, but it is made cheap for the p...</td>\n",
       "    </tr>\n",
       "  </tbody>\n",
       "</table>\n",
       "</div>"
      ],
      "text/plain": [
       "         ratings                                            reviews\n",
       "3764510      5.0  Not much to say here other than it works. Our ...\n",
       "2264428      5.0                           Very stylish and useful.\n",
       "4253177      3.0  this does work, but it is made cheap for the p..."
      ]
     },
     "execution_count": 4,
     "metadata": {},
     "output_type": "execute_result"
    }
   ],
   "source": [
    "selected_df = df[['star_rating', 'review_body']].rename(columns={'star_rating': 'ratings', 'review_body':'reviews'})\n",
    "# Include three sample reviews in your report along with corresponding ratings. \n",
    "selected_df.sample(n = 3)"
   ]
  },
  {
   "cell_type": "markdown",
   "metadata": {},
   "source": [
    "## Statistics of each rating class"
   ]
  },
  {
   "cell_type": "markdown",
   "metadata": {},
   "source": [
    "- Calculated statistics of ratings by taking an aggregated count after grouping the dataframe by column 'ratings'.\n",
    "- Plotted a bar chart to visualize the results."
   ]
  },
  {
   "cell_type": "code",
   "execution_count": 5,
   "metadata": {},
   "outputs": [
    {
     "name": "stdout",
     "output_type": "stream",
     "text": [
      "         reviews\n",
      "ratings         \n",
      "1.0       426870\n",
      "2.0       241939\n",
      "3.0       349539\n",
      "4.0       731701\n",
      "5.0      3124595\n"
     ]
    },
    {
     "data": {
      "text/plain": [
       "<AxesSubplot:xlabel='ratings'>"
      ]
     },
     "execution_count": 5,
     "metadata": {},
     "output_type": "execute_result"
    },
    {
     "data": {
      "image/png": "[encoded data removed]",
      "text/plain": [
       "<Figure size 432x288 with 1 Axes>"
      ]
     },
     "metadata": {
      "needs_background": "light"
     },
     "output_type": "display_data"
    }
   ],
   "source": [
    "# Report the statistics of the ratings, i.e., how many reviews received 1 ratings, etc.\n",
    "stats_df = selected_df.groupby(selected_df['ratings']).agg('count')\n",
    "print(stats_df)\n",
    "stats_df.plot.bar(y='reviews')"
   ]
  },
  {
   "cell_type": "markdown",
   "metadata": {},
   "source": [
    "# Labelling Reviews:\n",
    "## The reviews with rating 4,5 are labelled to be 1 and 1,2 are labelled as 0. Discard the reviews with rating 3'"
   ]
  },
  {
   "cell_type": "markdown",
   "metadata": {},
   "source": [
    "- Created function label_review to return labels according to the ratings as asked by the problem statement.\n",
    "- Used pandas.DataFrame.apply method to apply label_review function to each row of the 'ratings' column and get labels.\n",
    "- Used pandas.DataFrame.assign method to assign new column 'label' to the dataframe with values returned by the pandas.DataFrame.apply method."
   ]
  },
  {
   "cell_type": "code",
   "execution_count": 6,
   "metadata": {},
   "outputs": [],
   "source": [
    "def label_review(row):\n",
    "    if row['ratings'] == 4 or row['ratings'] == 5:\n",
    "        return 1\n",
    "    elif row['ratings'] == 1 or row['ratings'] == 2:\n",
    "        return 0\n",
    "    else:\n",
    "        return -1"
   ]
  },
  {
   "cell_type": "code",
   "execution_count": 7,
   "metadata": {
    "scrolled": true
   },
   "outputs": [
    {
     "data": {
      "text/html": [
       "<div>\n",
       "<style scoped>\n",
       "    .dataframe tbody tr th:only-of-type {\n",
       "        vertical-align: middle;\n",
       "    }\n",
       "\n",
       "    .dataframe tbody tr th {\n",
       "        vertical-align: top;\n",
       "    }\n",
       "\n",
       "    .dataframe thead th {\n",
       "        text-align: right;\n",
       "    }\n",
       "</style>\n",
       "<table border=\"1\" class=\"dataframe\">\n",
       "  <thead>\n",
       "    <tr style=\"text-align: right;\">\n",
       "      <th></th>\n",
       "      <th>ratings</th>\n",
       "      <th>reviews</th>\n",
       "      <th>label</th>\n",
       "    </tr>\n",
       "  </thead>\n",
       "  <tbody>\n",
       "    <tr>\n",
       "      <th>0</th>\n",
       "      <td>5.0</td>\n",
       "      <td>Beautiful.  Looks great on counter.</td>\n",
       "      <td>1</td>\n",
       "    </tr>\n",
       "    <tr>\n",
       "      <th>1</th>\n",
       "      <td>5.0</td>\n",
       "      <td>I personally have 5 days sets and have also bo...</td>\n",
       "      <td>1</td>\n",
       "    </tr>\n",
       "    <tr>\n",
       "      <th>2</th>\n",
       "      <td>5.0</td>\n",
       "      <td>Fabulous and worth every penny. Used for clean...</td>\n",
       "      <td>1</td>\n",
       "    </tr>\n",
       "    <tr>\n",
       "      <th>3</th>\n",
       "      <td>5.0</td>\n",
       "      <td>A must if you love garlic on tomato marinara s...</td>\n",
       "      <td>1</td>\n",
       "    </tr>\n",
       "    <tr>\n",
       "      <th>4</th>\n",
       "      <td>5.0</td>\n",
       "      <td>Worth every penny! Buy one now and be a pizza ...</td>\n",
       "      <td>1</td>\n",
       "    </tr>\n",
       "    <tr>\n",
       "      <th>...</th>\n",
       "      <td>...</td>\n",
       "      <td>...</td>\n",
       "      <td>...</td>\n",
       "    </tr>\n",
       "    <tr>\n",
       "      <th>4874885</th>\n",
       "      <td>4.0</td>\n",
       "      <td>After a month of heavy use, primarily as a chi...</td>\n",
       "      <td>1</td>\n",
       "    </tr>\n",
       "    <tr>\n",
       "      <th>4874886</th>\n",
       "      <td>5.0</td>\n",
       "      <td>I've used my Le Creuset enameled cast iron coo...</td>\n",
       "      <td>1</td>\n",
       "    </tr>\n",
       "    <tr>\n",
       "      <th>4874887</th>\n",
       "      <td>4.0</td>\n",
       "      <td>According to my wife, this is \\\\\"the best birt...</td>\n",
       "      <td>1</td>\n",
       "    </tr>\n",
       "    <tr>\n",
       "      <th>4874888</th>\n",
       "      <td>4.0</td>\n",
       "      <td>Hoffritz has a name of producing a trendy and ...</td>\n",
       "      <td>1</td>\n",
       "    </tr>\n",
       "    <tr>\n",
       "      <th>4874889</th>\n",
       "      <td>5.0</td>\n",
       "      <td>OK. I was late to snap to the Dead Reckoners. ...</td>\n",
       "      <td>1</td>\n",
       "    </tr>\n",
       "  </tbody>\n",
       "</table>\n",
       "<p>4874890 rows × 3 columns</p>\n",
       "</div>"
      ],
      "text/plain": [
       "         ratings                                            reviews  label\n",
       "0            5.0                Beautiful.  Looks great on counter.      1\n",
       "1            5.0  I personally have 5 days sets and have also bo...      1\n",
       "2            5.0  Fabulous and worth every penny. Used for clean...      1\n",
       "3            5.0  A must if you love garlic on tomato marinara s...      1\n",
       "4            5.0  Worth every penny! Buy one now and be a pizza ...      1\n",
       "...          ...                                                ...    ...\n",
       "4874885      4.0  After a month of heavy use, primarily as a chi...      1\n",
       "4874886      5.0  I've used my Le Creuset enameled cast iron coo...      1\n",
       "4874887      4.0  According to my wife, this is \\\\\"the best birt...      1\n",
       "4874888      4.0  Hoffritz has a name of producing a trendy and ...      1\n",
       "4874889      5.0  OK. I was late to snap to the Dead Reckoners. ...      1\n",
       "\n",
       "[4874890 rows x 3 columns]"
      ]
     },
     "execution_count": 7,
     "metadata": {},
     "output_type": "execute_result"
    }
   ],
   "source": [
    "col = selected_df.apply(label_review, axis = 1) # get column data with an index\n",
    "selected_df = selected_df.assign(label = col.values) # assign values to column 'label'\n",
    "selected_df"
   ]
  },
  {
   "cell_type": "code",
   "execution_count": 8,
   "metadata": {},
   "outputs": [],
   "source": [
    "selected_df = selected_df[['reviews','label']]"
   ]
  },
  {
   "cell_type": "markdown",
   "metadata": {},
   "source": [
    "## Statistics for the 3 classes"
   ]
  },
  {
   "cell_type": "markdown",
   "metadata": {},
   "source": [
    "- -1 : ratings == 3\n",
    "- 0 : ratings < 3\n",
    "- 1 : ratings > 3\n",
    "- Calculated statistics of label by taking an aggregated count after grouping the dataframe by column 'label'.\n",
    "- Plotted a bar chart to visualize the results. "
   ]
  },
  {
   "cell_type": "code",
   "execution_count": 9,
   "metadata": {},
   "outputs": [
    {
     "name": "stdout",
     "output_type": "stream",
     "text": [
      "label\n",
      "-1     349539\n",
      " 0     668809\n",
      " 1    3856296\n",
      "Name: reviews, dtype: int64\n"
     ]
    },
    {
     "data": {
      "text/plain": [
       "<AxesSubplot:xlabel='label'>"
      ]
     },
     "execution_count": 9,
     "metadata": {},
     "output_type": "execute_result"
    },
    {
     "data": {
      "image/png": "[encoded data removed]",
      "text/plain": [
       "<Figure size 432x288 with 1 Axes>"
      ]
     },
     "metadata": {
      "needs_background": "light"
     },
     "output_type": "display_data"
    }
   ],
   "source": [
    "# Include the number of reviews for each of these three classes in your report.\n",
    "stats_df = selected_df.groupby(selected_df['label']).agg('count')\n",
    "print(stats_df['reviews'])\n",
    "stats_df.plot.bar(y='reviews')"
   ]
  },
  {
   "cell_type": "markdown",
   "metadata": {},
   "source": [
    " ## We select 200000 reviews randomly with 100,000 positive and 100,000 negative reviews.\n",
    "\n"
   ]
  },
  {
   "cell_type": "markdown",
   "metadata": {},
   "source": [
    "- Used pandas.DataFrame.sample method to return a random sample of n rows of the dataframe for both positive and negative reviews.\n",
    "- Then, concatenated both positive and negative reviews dataframe into one dataframe using pandas.concat method.\n",
    "- Used pandas.DataFrame.sample method with option frac = 1 to shuffle the dataframe randomly and hence avoid rows being sequentially ordered for positive and negative reviews.\n",
    "- Also used pandas.DataFrame.reset_index with option drop = True to reset the index of the dataframe with default integer index."
   ]
  },
  {
   "cell_type": "code",
   "execution_count": 10,
   "metadata": {},
   "outputs": [],
   "source": [
    "selected_df_1 = selected_df[selected_df['label'] == 1].sample(n = 100000) # positive reviews\n",
    "selected_df_0 = selected_df[selected_df['label'] == 0].sample(n = 100000) # negative reviews"
   ]
  },
  {
   "cell_type": "code",
   "execution_count": 11,
   "metadata": {},
   "outputs": [
    {
     "data": {
      "text/html": [
       "<div>\n",
       "<style scoped>\n",
       "    .dataframe tbody tr th:only-of-type {\n",
       "        vertical-align: middle;\n",
       "    }\n",
       "\n",
       "    .dataframe tbody tr th {\n",
       "        vertical-align: top;\n",
       "    }\n",
       "\n",
       "    .dataframe thead th {\n",
       "        text-align: right;\n",
       "    }\n",
       "</style>\n",
       "<table border=\"1\" class=\"dataframe\">\n",
       "  <thead>\n",
       "    <tr style=\"text-align: right;\">\n",
       "      <th></th>\n",
       "      <th>reviews</th>\n",
       "      <th>label</th>\n",
       "    </tr>\n",
       "  </thead>\n",
       "  <tbody>\n",
       "    <tr>\n",
       "      <th>0</th>\n",
       "      <td>I am astounded by all these positive reviews! ...</td>\n",
       "      <td>0</td>\n",
       "    </tr>\n",
       "    <tr>\n",
       "      <th>1</th>\n",
       "      <td>Was looking for replacement &amp;#34;kid&amp;#34; size...</td>\n",
       "      <td>0</td>\n",
       "    </tr>\n",
       "    <tr>\n",
       "      <th>2</th>\n",
       "      <td>The best of the best! Very stylish, modern, co...</td>\n",
       "      <td>1</td>\n",
       "    </tr>\n",
       "    <tr>\n",
       "      <th>3</th>\n",
       "      <td>$239 a pair?!?!  Are you kidding?!?!  CrystalC...</td>\n",
       "      <td>0</td>\n",
       "    </tr>\n",
       "    <tr>\n",
       "      <th>4</th>\n",
       "      <td>Works like a charm!  Definitely the most used ...</td>\n",
       "      <td>1</td>\n",
       "    </tr>\n",
       "    <tr>\n",
       "      <th>...</th>\n",
       "      <td>...</td>\n",
       "      <td>...</td>\n",
       "    </tr>\n",
       "    <tr>\n",
       "      <th>199995</th>\n",
       "      <td>I love this plate and the stand it comes with....</td>\n",
       "      <td>1</td>\n",
       "    </tr>\n",
       "    <tr>\n",
       "      <th>199996</th>\n",
       "      <td>The first time I ever used it,it broke. It's a...</td>\n",
       "      <td>0</td>\n",
       "    </tr>\n",
       "    <tr>\n",
       "      <th>199997</th>\n",
       "      <td>Works great! Does seem to get cloudy inside ea...</td>\n",
       "      <td>1</td>\n",
       "    </tr>\n",
       "    <tr>\n",
       "      <th>199998</th>\n",
       "      <td>My kids love them.  I don't have problems with...</td>\n",
       "      <td>1</td>\n",
       "    </tr>\n",
       "    <tr>\n",
       "      <th>199999</th>\n",
       "      <td>Works as advertised.  Very easy to use and mak...</td>\n",
       "      <td>1</td>\n",
       "    </tr>\n",
       "  </tbody>\n",
       "</table>\n",
       "<p>200000 rows × 2 columns</p>\n",
       "</div>"
      ],
      "text/plain": [
       "                                                  reviews  label\n",
       "0       I am astounded by all these positive reviews! ...      0\n",
       "1       Was looking for replacement &#34;kid&#34; size...      0\n",
       "2       The best of the best! Very stylish, modern, co...      1\n",
       "3       $239 a pair?!?!  Are you kidding?!?!  CrystalC...      0\n",
       "4       Works like a charm!  Definitely the most used ...      1\n",
       "...                                                   ...    ...\n",
       "199995  I love this plate and the stand it comes with....      1\n",
       "199996  The first time I ever used it,it broke. It's a...      0\n",
       "199997  Works great! Does seem to get cloudy inside ea...      1\n",
       "199998  My kids love them.  I don't have problems with...      1\n",
       "199999  Works as advertised.  Very easy to use and mak...      1\n",
       "\n",
       "[200000 rows x 2 columns]"
      ]
     },
     "execution_count": 11,
     "metadata": {},
     "output_type": "execute_result"
    }
   ],
   "source": [
    "merged_df = pd.concat([selected_df_0, selected_df_1])\n",
    "merged_df = merged_df.sample(frac = 1).reset_index(drop = True)\n",
    "merged_df"
   ]
  },
  {
   "cell_type": "markdown",
   "metadata": {},
   "source": [
    "## Average length of reviews (Before Cleaning)"
   ]
  },
  {
   "cell_type": "markdown",
   "metadata": {},
   "source": [
    "- Calculated the average length of reviews by using the len method to get the character length of each review and then taking the mean of the same, by using the pandas.DataFrame.mean method.\n",
    "- Used pandas.DataFrame.apply method to apply above function to each row of the 'reviews' column."
   ]
  },
  {
   "cell_type": "code",
   "execution_count": 12,
   "metadata": {},
   "outputs": [
    {
     "data": {
      "text/plain": [
       "321.99652"
      ]
     },
     "execution_count": 12,
     "metadata": {},
     "output_type": "execute_result"
    }
   ],
   "source": [
    "# print the average length of the reviews in terms of character length in your dataset before cleaning\n",
    "merged_df['reviews'].apply(lambda x: len(str(x))).mean()"
   ]
  },
  {
   "cell_type": "markdown",
   "metadata": {},
   "source": [
    "## 3 sample reviews (Before Data Cleaning + Preprocessing)"
   ]
  },
  {
   "cell_type": "markdown",
   "metadata": {},
   "source": [
    "- Used pandas.DataFrame.sample method to return a random sample of n rows of the dataframe."
   ]
  },
  {
   "cell_type": "code",
   "execution_count": 13,
   "metadata": {},
   "outputs": [
    {
     "data": {
      "text/html": [
       "<div>\n",
       "<style scoped>\n",
       "    .dataframe tbody tr th:only-of-type {\n",
       "        vertical-align: middle;\n",
       "    }\n",
       "\n",
       "    .dataframe tbody tr th {\n",
       "        vertical-align: top;\n",
       "    }\n",
       "\n",
       "    .dataframe thead th {\n",
       "        text-align: right;\n",
       "    }\n",
       "</style>\n",
       "<table border=\"1\" class=\"dataframe\">\n",
       "  <thead>\n",
       "    <tr style=\"text-align: right;\">\n",
       "      <th></th>\n",
       "      <th>reviews</th>\n",
       "      <th>label</th>\n",
       "    </tr>\n",
       "  </thead>\n",
       "  <tbody>\n",
       "    <tr>\n",
       "      <th>159567</th>\n",
       "      <td>Returned. Could not chop an onion - it bent th...</td>\n",
       "      <td>0</td>\n",
       "    </tr>\n",
       "    <tr>\n",
       "      <th>136041</th>\n",
       "      <td>My first Pitcher was awesome, only problem was...</td>\n",
       "      <td>0</td>\n",
       "    </tr>\n",
       "    <tr>\n",
       "      <th>191107</th>\n",
       "      <td>Do not buy this kettle. Very bad quality and t...</td>\n",
       "      <td>0</td>\n",
       "    </tr>\n",
       "  </tbody>\n",
       "</table>\n",
       "</div>"
      ],
      "text/plain": [
       "                                                  reviews  label\n",
       "159567  Returned. Could not chop an onion - it bent th...      0\n",
       "136041  My first Pitcher was awesome, only problem was...      0\n",
       "191107  Do not buy this kettle. Very bad quality and t...      0"
      ]
     },
     "execution_count": 13,
     "metadata": {},
     "output_type": "execute_result"
    }
   ],
   "source": [
    "# Print three sample reviews before data cleaning + preprocessing\n",
    "merged_df.sample(n = 3)"
   ]
  },
  {
   "cell_type": "markdown",
   "metadata": {},
   "source": [
    "# Data Cleaning\n",
    "\n",
    "## Convert all the reviews into the lower case."
   ]
  },
  {
   "cell_type": "markdown",
   "metadata": {},
   "source": [
    "- Used str.lower() method to convert all reviews into lower case.\n",
    "- Used pandas.DataFrame.apply method to apply above function to each row of the 'reviews' column."
   ]
  },
  {
   "cell_type": "code",
   "execution_count": 14,
   "metadata": {
    "scrolled": true
   },
   "outputs": [
    {
     "data": {
      "text/html": [
       "<div>\n",
       "<style scoped>\n",
       "    .dataframe tbody tr th:only-of-type {\n",
       "        vertical-align: middle;\n",
       "    }\n",
       "\n",
       "    .dataframe tbody tr th {\n",
       "        vertical-align: top;\n",
       "    }\n",
       "\n",
       "    .dataframe thead th {\n",
       "        text-align: right;\n",
       "    }\n",
       "</style>\n",
       "<table border=\"1\" class=\"dataframe\">\n",
       "  <thead>\n",
       "    <tr style=\"text-align: right;\">\n",
       "      <th></th>\n",
       "      <th>reviews</th>\n",
       "      <th>label</th>\n",
       "    </tr>\n",
       "  </thead>\n",
       "  <tbody>\n",
       "    <tr>\n",
       "      <th>0</th>\n",
       "      <td>i am astounded by all these positive reviews! ...</td>\n",
       "      <td>0</td>\n",
       "    </tr>\n",
       "    <tr>\n",
       "      <th>1</th>\n",
       "      <td>was looking for replacement &amp;#34;kid&amp;#34; size...</td>\n",
       "      <td>0</td>\n",
       "    </tr>\n",
       "    <tr>\n",
       "      <th>2</th>\n",
       "      <td>the best of the best! very stylish, modern, co...</td>\n",
       "      <td>1</td>\n",
       "    </tr>\n",
       "    <tr>\n",
       "      <th>3</th>\n",
       "      <td>$239 a pair?!?!  are you kidding?!?!  crystalc...</td>\n",
       "      <td>0</td>\n",
       "    </tr>\n",
       "    <tr>\n",
       "      <th>4</th>\n",
       "      <td>works like a charm!  definitely the most used ...</td>\n",
       "      <td>1</td>\n",
       "    </tr>\n",
       "    <tr>\n",
       "      <th>...</th>\n",
       "      <td>...</td>\n",
       "      <td>...</td>\n",
       "    </tr>\n",
       "    <tr>\n",
       "      <th>199995</th>\n",
       "      <td>i love this plate and the stand it comes with....</td>\n",
       "      <td>1</td>\n",
       "    </tr>\n",
       "    <tr>\n",
       "      <th>199996</th>\n",
       "      <td>the first time i ever used it,it broke. it's a...</td>\n",
       "      <td>0</td>\n",
       "    </tr>\n",
       "    <tr>\n",
       "      <th>199997</th>\n",
       "      <td>works great! does seem to get cloudy inside ea...</td>\n",
       "      <td>1</td>\n",
       "    </tr>\n",
       "    <tr>\n",
       "      <th>199998</th>\n",
       "      <td>my kids love them.  i don't have problems with...</td>\n",
       "      <td>1</td>\n",
       "    </tr>\n",
       "    <tr>\n",
       "      <th>199999</th>\n",
       "      <td>works as advertised.  very easy to use and mak...</td>\n",
       "      <td>1</td>\n",
       "    </tr>\n",
       "  </tbody>\n",
       "</table>\n",
       "<p>200000 rows × 2 columns</p>\n",
       "</div>"
      ],
      "text/plain": [
       "                                                  reviews  label\n",
       "0       i am astounded by all these positive reviews! ...      0\n",
       "1       was looking for replacement &#34;kid&#34; size...      0\n",
       "2       the best of the best! very stylish, modern, co...      1\n",
       "3       $239 a pair?!?!  are you kidding?!?!  crystalc...      0\n",
       "4       works like a charm!  definitely the most used ...      1\n",
       "...                                                   ...    ...\n",
       "199995  i love this plate and the stand it comes with....      1\n",
       "199996  the first time i ever used it,it broke. it's a...      0\n",
       "199997  works great! does seem to get cloudy inside ea...      1\n",
       "199998  my kids love them.  i don't have problems with...      1\n",
       "199999  works as advertised.  very easy to use and mak...      1\n",
       "\n",
       "[200000 rows x 2 columns]"
      ]
     },
     "execution_count": 14,
     "metadata": {},
     "output_type": "execute_result"
    }
   ],
   "source": [
    "merged_df['reviews'] = merged_df['reviews'].apply(lambda x: str(x).lower())\n",
    "# Dataframe after converting to lower case\n",
    "merged_df"
   ]
  },
  {
   "cell_type": "markdown",
   "metadata": {},
   "source": [
    "## Remove the HTML and URLs from the reviews"
   ]
  },
  {
   "cell_type": "markdown",
   "metadata": {},
   "source": [
    "- Used BeautifulSoup to remove the HTML tags as it is a Python package that creates a parse tree for parsed pages that can be used to extract data from HTML.\n",
    "- Used regular expressions to identify and remove any URLs from the reviews.\n",
    "- Used pandas.DataFrame.apply method to apply above functions to each row of the 'reviews' column."
   ]
  },
  {
   "cell_type": "code",
   "execution_count": 15,
   "metadata": {},
   "outputs": [],
   "source": [
    "def remove_html(string):\n",
    "    soup = BeautifulSoup(string, \"html.parser\")\n",
    "    return soup.get_text()"
   ]
  },
  {
   "cell_type": "code",
   "execution_count": 16,
   "metadata": {},
   "outputs": [],
   "source": [
    "def remove_urls(string):\n",
    "    result = re.sub(r'http\\S+', '', string)\n",
    "    return result"
   ]
  },
  {
   "cell_type": "code",
   "execution_count": 17,
   "metadata": {},
   "outputs": [],
   "source": [
    "# removing the HTML and URLs from the reviews\n",
    "merged_df['reviews'] = merged_df['reviews'].apply(lambda x: remove_html(str(x)))\n",
    "merged_df['reviews'] = merged_df['reviews'].apply(lambda x: remove_urls(x))"
   ]
  },
  {
   "cell_type": "markdown",
   "metadata": {},
   "source": [
    "## Remove non-alphabetical characters"
   ]
  },
  {
   "cell_type": "markdown",
   "metadata": {},
   "source": [
    "- Used regular expressions to identify and remove non-alphabetical characters from the reviews(except spaces so that we can differentiate between words).\n",
    "- Used pandas.DataFrame.apply method to apply above function to each row of the 'reviews' column in the dataframe."
   ]
  },
  {
   "cell_type": "code",
   "execution_count": 18,
   "metadata": {},
   "outputs": [],
   "source": [
    "def remove_nonalphachars(string):\n",
    "    result = re.sub(r'[^a-zA-Z\\s]','',string)\n",
    "    return result"
   ]
  },
  {
   "cell_type": "code",
   "execution_count": 19,
   "metadata": {},
   "outputs": [
    {
     "data": {
      "text/html": [
       "<div>\n",
       "<style scoped>\n",
       "    .dataframe tbody tr th:only-of-type {\n",
       "        vertical-align: middle;\n",
       "    }\n",
       "\n",
       "    .dataframe tbody tr th {\n",
       "        vertical-align: top;\n",
       "    }\n",
       "\n",
       "    .dataframe thead th {\n",
       "        text-align: right;\n",
       "    }\n",
       "</style>\n",
       "<table border=\"1\" class=\"dataframe\">\n",
       "  <thead>\n",
       "    <tr style=\"text-align: right;\">\n",
       "      <th></th>\n",
       "      <th>reviews</th>\n",
       "      <th>label</th>\n",
       "    </tr>\n",
       "  </thead>\n",
       "  <tbody>\n",
       "    <tr>\n",
       "      <th>0</th>\n",
       "      <td>i am astounded by all these positive reviews! ...</td>\n",
       "      <td>0</td>\n",
       "    </tr>\n",
       "    <tr>\n",
       "      <th>1</th>\n",
       "      <td>was looking for replacement \"kid\" sized straws...</td>\n",
       "      <td>0</td>\n",
       "    </tr>\n",
       "    <tr>\n",
       "      <th>2</th>\n",
       "      <td>the best of the best! very stylish, modern, co...</td>\n",
       "      <td>1</td>\n",
       "    </tr>\n",
       "    <tr>\n",
       "      <th>3</th>\n",
       "      <td>$239 a pair?!?!  are you kidding?!?!  crystalc...</td>\n",
       "      <td>0</td>\n",
       "    </tr>\n",
       "    <tr>\n",
       "      <th>4</th>\n",
       "      <td>works like a charm!  definitely the most used ...</td>\n",
       "      <td>1</td>\n",
       "    </tr>\n",
       "    <tr>\n",
       "      <th>...</th>\n",
       "      <td>...</td>\n",
       "      <td>...</td>\n",
       "    </tr>\n",
       "    <tr>\n",
       "      <th>199995</th>\n",
       "      <td>i love this plate and the stand it comes with....</td>\n",
       "      <td>1</td>\n",
       "    </tr>\n",
       "    <tr>\n",
       "      <th>199996</th>\n",
       "      <td>the first time i ever used it,it broke. it's a...</td>\n",
       "      <td>0</td>\n",
       "    </tr>\n",
       "    <tr>\n",
       "      <th>199997</th>\n",
       "      <td>works great! does seem to get cloudy inside ea...</td>\n",
       "      <td>1</td>\n",
       "    </tr>\n",
       "    <tr>\n",
       "      <th>199998</th>\n",
       "      <td>my kids love them.  i don't have problems with...</td>\n",
       "      <td>1</td>\n",
       "    </tr>\n",
       "    <tr>\n",
       "      <th>199999</th>\n",
       "      <td>works as advertised.  very easy to use and mak...</td>\n",
       "      <td>1</td>\n",
       "    </tr>\n",
       "  </tbody>\n",
       "</table>\n",
       "<p>189112 rows × 2 columns</p>\n",
       "</div>"
      ],
      "text/plain": [
       "                                                  reviews  label\n",
       "0       i am astounded by all these positive reviews! ...      0\n",
       "1       was looking for replacement \"kid\" sized straws...      0\n",
       "2       the best of the best! very stylish, modern, co...      1\n",
       "3       $239 a pair?!?!  are you kidding?!?!  crystalc...      0\n",
       "4       works like a charm!  definitely the most used ...      1\n",
       "...                                                   ...    ...\n",
       "199995  i love this plate and the stand it comes with....      1\n",
       "199996  the first time i ever used it,it broke. it's a...      0\n",
       "199997  works great! does seem to get cloudy inside ea...      1\n",
       "199998  my kids love them.  i don't have problems with...      1\n",
       "199999  works as advertised.  very easy to use and mak...      1\n",
       "\n",
       "[189112 rows x 2 columns]"
      ]
     },
     "execution_count": 19,
     "metadata": {},
     "output_type": "execute_result"
    }
   ],
   "source": [
    "# Identifying rows with non-alphabetical characters in reviews\n",
    "df_check = merged_df[merged_df.reviews.str.contains('[^a-zA-Z\\s]', regex = True, na = False)]\n",
    "idx_nonalpha = df_check.index.tolist()\n",
    "df_check"
   ]
  },
  {
   "cell_type": "code",
   "execution_count": 20,
   "metadata": {},
   "outputs": [],
   "source": [
    "# Saving indices of reviews having contractions to test later\n",
    "df_contractions = merged_df[merged_df.reviews.str.contains('\\'', regex = True, na = False)]\n",
    "idx_contractions = df_check[:10].index.tolist()"
   ]
  },
  {
   "cell_type": "code",
   "execution_count": 21,
   "metadata": {},
   "outputs": [
    {
     "data": {
      "text/html": [
       "<div>\n",
       "<style scoped>\n",
       "    .dataframe tbody tr th:only-of-type {\n",
       "        vertical-align: middle;\n",
       "    }\n",
       "\n",
       "    .dataframe tbody tr th {\n",
       "        vertical-align: top;\n",
       "    }\n",
       "\n",
       "    .dataframe thead th {\n",
       "        text-align: right;\n",
       "    }\n",
       "</style>\n",
       "<table border=\"1\" class=\"dataframe\">\n",
       "  <thead>\n",
       "    <tr style=\"text-align: right;\">\n",
       "      <th></th>\n",
       "      <th>reviews</th>\n",
       "      <th>label</th>\n",
       "    </tr>\n",
       "  </thead>\n",
       "  <tbody>\n",
       "    <tr>\n",
       "      <th>0</th>\n",
       "      <td>i am astounded by all these positive reviews  ...</td>\n",
       "      <td>0</td>\n",
       "    </tr>\n",
       "    <tr>\n",
       "      <th>1</th>\n",
       "      <td>was looking for replacement kid sized straws f...</td>\n",
       "      <td>0</td>\n",
       "    </tr>\n",
       "    <tr>\n",
       "      <th>2</th>\n",
       "      <td>the best of the best very stylish modern comfo...</td>\n",
       "      <td>1</td>\n",
       "    </tr>\n",
       "    <tr>\n",
       "      <th>3</th>\n",
       "      <td>a pair  are you kidding  crystalclassicscom s...</td>\n",
       "      <td>0</td>\n",
       "    </tr>\n",
       "    <tr>\n",
       "      <th>4</th>\n",
       "      <td>works like a charm  definitely the most used a...</td>\n",
       "      <td>1</td>\n",
       "    </tr>\n",
       "    <tr>\n",
       "      <th>...</th>\n",
       "      <td>...</td>\n",
       "      <td>...</td>\n",
       "    </tr>\n",
       "    <tr>\n",
       "      <th>199995</th>\n",
       "      <td>i love this plate and the stand it comes with ...</td>\n",
       "      <td>1</td>\n",
       "    </tr>\n",
       "    <tr>\n",
       "      <th>199996</th>\n",
       "      <td>the first time i ever used itit broke its a ve...</td>\n",
       "      <td>0</td>\n",
       "    </tr>\n",
       "    <tr>\n",
       "      <th>199997</th>\n",
       "      <td>works great does seem to get cloudy inside eas...</td>\n",
       "      <td>1</td>\n",
       "    </tr>\n",
       "    <tr>\n",
       "      <th>199998</th>\n",
       "      <td>my kids love them  i dont have problems with t...</td>\n",
       "      <td>1</td>\n",
       "    </tr>\n",
       "    <tr>\n",
       "      <th>199999</th>\n",
       "      <td>works as advertised  very easy to use and make...</td>\n",
       "      <td>1</td>\n",
       "    </tr>\n",
       "  </tbody>\n",
       "</table>\n",
       "<p>189112 rows × 2 columns</p>\n",
       "</div>"
      ],
      "text/plain": [
       "                                                  reviews  label\n",
       "0       i am astounded by all these positive reviews  ...      0\n",
       "1       was looking for replacement kid sized straws f...      0\n",
       "2       the best of the best very stylish modern comfo...      1\n",
       "3        a pair  are you kidding  crystalclassicscom s...      0\n",
       "4       works like a charm  definitely the most used a...      1\n",
       "...                                                   ...    ...\n",
       "199995  i love this plate and the stand it comes with ...      1\n",
       "199996  the first time i ever used itit broke its a ve...      0\n",
       "199997  works great does seem to get cloudy inside eas...      1\n",
       "199998  my kids love them  i dont have problems with t...      1\n",
       "199999  works as advertised  very easy to use and make...      1\n",
       "\n",
       "[189112 rows x 2 columns]"
      ]
     },
     "execution_count": 21,
     "metadata": {},
     "output_type": "execute_result"
    }
   ],
   "source": [
    "# removing the non-alphabetical characters from the reviews\n",
    "merged_df['reviews'] = merged_df['reviews'].apply(remove_nonalphachars)\n",
    "merged_df.loc[idx_nonalpha]"
   ]
  },
  {
   "cell_type": "markdown",
   "metadata": {},
   "source": [
    "## Remove the extra spaces between the words"
   ]
  },
  {
   "cell_type": "markdown",
   "metadata": {},
   "source": [
    "- Used regular expressions to identify and remove extra spaces between the words.\n",
    "- Used pandas.DataFrame.apply method to apply above function to each row of the 'reviews' column in the dataframe."
   ]
  },
  {
   "cell_type": "code",
   "execution_count": 22,
   "metadata": {},
   "outputs": [],
   "source": [
    "def remove_extra_space(string):\n",
    "    result = re.sub(r'\\s+',' ',string)\n",
    "    return result"
   ]
  },
  {
   "cell_type": "code",
   "execution_count": 23,
   "metadata": {},
   "outputs": [],
   "source": [
    "# removing extra spaces from the reviews\n",
    "merged_df['reviews'] = merged_df['reviews'].apply(remove_extra_space)"
   ]
  },
  {
   "cell_type": "markdown",
   "metadata": {},
   "source": [
    "## Perform contractions on the reviews."
   ]
  },
  {
   "cell_type": "markdown",
   "metadata": {},
   "source": [
    "- Used contractions library to perform contractions on the reviews and then expand them by applying contractions.fix method to each word in the review sentence.\n",
    "- Used pandas.DataFrame.apply method to apply above function to each row of the 'reviews' column in the dataframe."
   ]
  },
  {
   "cell_type": "code",
   "execution_count": 24,
   "metadata": {},
   "outputs": [],
   "source": [
    "def contraction_function(review):\n",
    "    contraction_str = []\n",
    "    for word in review.split(' '):\n",
    "        contraction_str.append(contractions.fix(word))\n",
    "    return ' '.join(contraction_str)"
   ]
  },
  {
   "cell_type": "code",
   "execution_count": 25,
   "metadata": {},
   "outputs": [
    {
     "data": {
      "text/html": [
       "<div>\n",
       "<style scoped>\n",
       "    .dataframe tbody tr th:only-of-type {\n",
       "        vertical-align: middle;\n",
       "    }\n",
       "\n",
       "    .dataframe tbody tr th {\n",
       "        vertical-align: top;\n",
       "    }\n",
       "\n",
       "    .dataframe thead th {\n",
       "        text-align: right;\n",
       "    }\n",
       "</style>\n",
       "<table border=\"1\" class=\"dataframe\">\n",
       "  <thead>\n",
       "    <tr style=\"text-align: right;\">\n",
       "      <th></th>\n",
       "      <th>reviews</th>\n",
       "      <th>label</th>\n",
       "    </tr>\n",
       "  </thead>\n",
       "  <tbody>\n",
       "    <tr>\n",
       "      <th>0</th>\n",
       "      <td>i am astounded by all these positive reviews! ...</td>\n",
       "      <td>0</td>\n",
       "    </tr>\n",
       "    <tr>\n",
       "      <th>5</th>\n",
       "      <td>i paid a lot of money for the lg. zero water c...</td>\n",
       "      <td>0</td>\n",
       "    </tr>\n",
       "    <tr>\n",
       "      <th>6</th>\n",
       "      <td>i had this set, until the handles started brea...</td>\n",
       "      <td>0</td>\n",
       "    </tr>\n",
       "    <tr>\n",
       "      <th>7</th>\n",
       "      <td>it cost them about fifty cents to manufacture ...</td>\n",
       "      <td>0</td>\n",
       "    </tr>\n",
       "    <tr>\n",
       "      <th>8</th>\n",
       "      <td>i bought this coffee maker to replace another ...</td>\n",
       "      <td>1</td>\n",
       "    </tr>\n",
       "    <tr>\n",
       "      <th>9</th>\n",
       "      <td>i picked this up at the start of summer. i've ...</td>\n",
       "      <td>1</td>\n",
       "    </tr>\n",
       "    <tr>\n",
       "      <th>13</th>\n",
       "      <td>i ordered the red and blue la jolla stacks.  t...</td>\n",
       "      <td>1</td>\n",
       "    </tr>\n",
       "    <tr>\n",
       "      <th>19</th>\n",
       "      <td>i need this for cooking class and it work grea...</td>\n",
       "      <td>1</td>\n",
       "    </tr>\n",
       "    <tr>\n",
       "      <th>24</th>\n",
       "      <td>works when it works, but there's a piece under...</td>\n",
       "      <td>0</td>\n",
       "    </tr>\n",
       "    <tr>\n",
       "      <th>32</th>\n",
       "      <td>it is absolutely perfect for me! i've been sea...</td>\n",
       "      <td>1</td>\n",
       "    </tr>\n",
       "  </tbody>\n",
       "</table>\n",
       "</div>"
      ],
      "text/plain": [
       "                                              reviews  label\n",
       "0   i am astounded by all these positive reviews! ...      0\n",
       "5   i paid a lot of money for the lg. zero water c...      0\n",
       "6   i had this set, until the handles started brea...      0\n",
       "7   it cost them about fifty cents to manufacture ...      0\n",
       "8   i bought this coffee maker to replace another ...      1\n",
       "9   i picked this up at the start of summer. i've ...      1\n",
       "13  i ordered the red and blue la jolla stacks.  t...      1\n",
       "19  i need this for cooking class and it work grea...      1\n",
       "24  works when it works, but there's a piece under...      0\n",
       "32  it is absolutely perfect for me! i've been sea...      1"
      ]
     },
     "execution_count": 25,
     "metadata": {},
     "output_type": "execute_result"
    }
   ],
   "source": [
    "# Before removing contractions from the reviews\n",
    "df_contractions[:10]"
   ]
  },
  {
   "cell_type": "code",
   "execution_count": 26,
   "metadata": {},
   "outputs": [
    {
     "data": {
      "text/html": [
       "<div>\n",
       "<style scoped>\n",
       "    .dataframe tbody tr th:only-of-type {\n",
       "        vertical-align: middle;\n",
       "    }\n",
       "\n",
       "    .dataframe tbody tr th {\n",
       "        vertical-align: top;\n",
       "    }\n",
       "\n",
       "    .dataframe thead th {\n",
       "        text-align: right;\n",
       "    }\n",
       "</style>\n",
       "<table border=\"1\" class=\"dataframe\">\n",
       "  <thead>\n",
       "    <tr style=\"text-align: right;\">\n",
       "      <th></th>\n",
       "      <th>reviews</th>\n",
       "      <th>label</th>\n",
       "    </tr>\n",
       "  </thead>\n",
       "  <tbody>\n",
       "    <tr>\n",
       "      <th>0</th>\n",
       "      <td>i am astounded by all these positive reviews i...</td>\n",
       "      <td>0</td>\n",
       "    </tr>\n",
       "    <tr>\n",
       "      <th>1</th>\n",
       "      <td>was looking for replacement kid sized straws f...</td>\n",
       "      <td>0</td>\n",
       "    </tr>\n",
       "    <tr>\n",
       "      <th>2</th>\n",
       "      <td>the best of the best very stylish modern comfo...</td>\n",
       "      <td>1</td>\n",
       "    </tr>\n",
       "    <tr>\n",
       "      <th>3</th>\n",
       "      <td>a pair are you kidding crystalclassicscom sel...</td>\n",
       "      <td>0</td>\n",
       "    </tr>\n",
       "    <tr>\n",
       "      <th>4</th>\n",
       "      <td>works like a charm definitely the most used an...</td>\n",
       "      <td>1</td>\n",
       "    </tr>\n",
       "    <tr>\n",
       "      <th>5</th>\n",
       "      <td>i paid a lot of money for the lg zero water co...</td>\n",
       "      <td>0</td>\n",
       "    </tr>\n",
       "    <tr>\n",
       "      <th>6</th>\n",
       "      <td>i had this set until the handles started break...</td>\n",
       "      <td>0</td>\n",
       "    </tr>\n",
       "    <tr>\n",
       "      <th>7</th>\n",
       "      <td>it cost them about fifty cents to manufacture ...</td>\n",
       "      <td>0</td>\n",
       "    </tr>\n",
       "    <tr>\n",
       "      <th>8</th>\n",
       "      <td>i bought this coffee maker to replace another ...</td>\n",
       "      <td>1</td>\n",
       "    </tr>\n",
       "    <tr>\n",
       "      <th>9</th>\n",
       "      <td>i picked this up at the start of summer I have...</td>\n",
       "      <td>1</td>\n",
       "    </tr>\n",
       "  </tbody>\n",
       "</table>\n",
       "</div>"
      ],
      "text/plain": [
       "                                             reviews  label\n",
       "0  i am astounded by all these positive reviews i...      0\n",
       "1  was looking for replacement kid sized straws f...      0\n",
       "2  the best of the best very stylish modern comfo...      1\n",
       "3   a pair are you kidding crystalclassicscom sel...      0\n",
       "4  works like a charm definitely the most used an...      1\n",
       "5  i paid a lot of money for the lg zero water co...      0\n",
       "6  i had this set until the handles started break...      0\n",
       "7  it cost them about fifty cents to manufacture ...      0\n",
       "8  i bought this coffee maker to replace another ...      1\n",
       "9  i picked this up at the start of summer I have...      1"
      ]
     },
     "execution_count": 26,
     "metadata": {},
     "output_type": "execute_result"
    }
   ],
   "source": [
    "# After removing contractions from the reviews\n",
    "merged_df['reviews'] = merged_df['reviews'].apply(contraction_function)\n",
    "merged_df.loc[idx_contractions]"
   ]
  },
  {
   "cell_type": "markdown",
   "metadata": {},
   "source": [
    "## Average length of reviews (After Cleaning)"
   ]
  },
  {
   "cell_type": "markdown",
   "metadata": {},
   "source": [
    "- Calculated the average length of reviews by using the len method to get the character length of each review and then taking the mean of the same, by using the pandas.DataFrame.mean method.\n",
    "- Used pandas.DataFrame.apply method to apply above function to each row of the 'reviews' column."
   ]
  },
  {
   "cell_type": "code",
   "execution_count": 27,
   "metadata": {},
   "outputs": [
    {
     "data": {
      "text/plain": [
       "306.713615"
      ]
     },
     "execution_count": 27,
     "metadata": {},
     "output_type": "execute_result"
    }
   ],
   "source": [
    "# print the average length of the reviews in terms of character length in your dataset after cleaning\n",
    "merged_df['reviews'].apply(lambda x: len(str(x))).mean()"
   ]
  },
  {
   "cell_type": "markdown",
   "metadata": {},
   "source": [
    "# Pre-processing"
   ]
  },
  {
   "cell_type": "markdown",
   "metadata": {},
   "source": [
    "## Remove the stop words "
   ]
  },
  {
   "cell_type": "markdown",
   "metadata": {},
   "source": [
    "- Used nltk.corpus.stopwords package to remove all stop words from the reviews.\n",
    "- Used nltk.tokenize.word_tokenize to tokenize the sentence into words and then checked if each word was a stop word and removed the stop words."
   ]
  },
  {
   "cell_type": "code",
   "execution_count": 28,
   "metadata": {},
   "outputs": [],
   "source": [
    "stopword = set(stopwords.words('english'))\n",
    "def remove_stop_words(string):\n",
    "    text_tokens = word_tokenize(string)\n",
    "    tokens_without_sw = [word for word in text_tokens if not word in stopword]\n",
    "    filtered_sentence = (\" \").join(tokens_without_sw)\n",
    "    return filtered_sentence"
   ]
  },
  {
   "cell_type": "code",
   "execution_count": 29,
   "metadata": {},
   "outputs": [
    {
     "data": {
      "text/html": [
       "<div>\n",
       "<style scoped>\n",
       "    .dataframe tbody tr th:only-of-type {\n",
       "        vertical-align: middle;\n",
       "    }\n",
       "\n",
       "    .dataframe tbody tr th {\n",
       "        vertical-align: top;\n",
       "    }\n",
       "\n",
       "    .dataframe thead th {\n",
       "        text-align: right;\n",
       "    }\n",
       "</style>\n",
       "<table border=\"1\" class=\"dataframe\">\n",
       "  <thead>\n",
       "    <tr style=\"text-align: right;\">\n",
       "      <th></th>\n",
       "      <th>reviews</th>\n",
       "      <th>label</th>\n",
       "    </tr>\n",
       "  </thead>\n",
       "  <tbody>\n",
       "    <tr>\n",
       "      <th>0</th>\n",
       "      <td>i am astounded by all these positive reviews i...</td>\n",
       "      <td>0</td>\n",
       "    </tr>\n",
       "    <tr>\n",
       "      <th>1</th>\n",
       "      <td>was looking for replacement kid sized straws f...</td>\n",
       "      <td>0</td>\n",
       "    </tr>\n",
       "    <tr>\n",
       "      <th>2</th>\n",
       "      <td>the best of the best very stylish modern comfo...</td>\n",
       "      <td>1</td>\n",
       "    </tr>\n",
       "  </tbody>\n",
       "</table>\n",
       "</div>"
      ],
      "text/plain": [
       "                                             reviews  label\n",
       "0  i am astounded by all these positive reviews i...      0\n",
       "1  was looking for replacement kid sized straws f...      0\n",
       "2  the best of the best very stylish modern comfo...      1"
      ]
     },
     "execution_count": 29,
     "metadata": {},
     "output_type": "execute_result"
    }
   ],
   "source": [
    "# Identifying stop words\n",
    "merged_df.head(3)"
   ]
  },
  {
   "cell_type": "code",
   "execution_count": 30,
   "metadata": {},
   "outputs": [
    {
     "data": {
      "text/html": [
       "<div>\n",
       "<style scoped>\n",
       "    .dataframe tbody tr th:only-of-type {\n",
       "        vertical-align: middle;\n",
       "    }\n",
       "\n",
       "    .dataframe tbody tr th {\n",
       "        vertical-align: top;\n",
       "    }\n",
       "\n",
       "    .dataframe thead th {\n",
       "        text-align: right;\n",
       "    }\n",
       "</style>\n",
       "<table border=\"1\" class=\"dataframe\">\n",
       "  <thead>\n",
       "    <tr style=\"text-align: right;\">\n",
       "      <th></th>\n",
       "      <th>reviews</th>\n",
       "      <th>label</th>\n",
       "    </tr>\n",
       "  </thead>\n",
       "  <tbody>\n",
       "    <tr>\n",
       "      <th>0</th>\n",
       "      <td>astounded positive reviews go put together fli...</td>\n",
       "      <td>0</td>\n",
       "    </tr>\n",
       "    <tr>\n",
       "      <th>1</th>\n",
       "      <td>looking replacement kid sized straws toss take...</td>\n",
       "      <td>0</td>\n",
       "    </tr>\n",
       "    <tr>\n",
       "      <th>2</th>\n",
       "      <td>best best stylish modern comfortable use</td>\n",
       "      <td>1</td>\n",
       "    </tr>\n",
       "  </tbody>\n",
       "</table>\n",
       "</div>"
      ],
      "text/plain": [
       "                                             reviews  label\n",
       "0  astounded positive reviews go put together fli...      0\n",
       "1  looking replacement kid sized straws toss take...      0\n",
       "2           best best stylish modern comfortable use      1"
      ]
     },
     "execution_count": 30,
     "metadata": {},
     "output_type": "execute_result"
    }
   ],
   "source": [
    "# Removing stop words from the reviews\n",
    "merged_df['reviews'] = merged_df['reviews'].apply(remove_stop_words)\n",
    "merged_df.head(3)"
   ]
  },
  {
   "cell_type": "markdown",
   "metadata": {},
   "source": [
    "## Perform lemmatization  "
   ]
  },
  {
   "cell_type": "markdown",
   "metadata": {},
   "source": [
    "- Used nlkt.stem.WordNetLemmatizer to apply lemmatization on the reviews."
   ]
  },
  {
   "cell_type": "code",
   "execution_count": 31,
   "metadata": {},
   "outputs": [
    {
     "data": {
      "text/html": [
       "<div>\n",
       "<style scoped>\n",
       "    .dataframe tbody tr th:only-of-type {\n",
       "        vertical-align: middle;\n",
       "    }\n",
       "\n",
       "    .dataframe tbody tr th {\n",
       "        vertical-align: top;\n",
       "    }\n",
       "\n",
       "    .dataframe thead th {\n",
       "        text-align: right;\n",
       "    }\n",
       "</style>\n",
       "<table border=\"1\" class=\"dataframe\">\n",
       "  <thead>\n",
       "    <tr style=\"text-align: right;\">\n",
       "      <th></th>\n",
       "      <th>reviews</th>\n",
       "      <th>label</th>\n",
       "    </tr>\n",
       "  </thead>\n",
       "  <tbody>\n",
       "    <tr>\n",
       "      <th>0</th>\n",
       "      <td>astounded positive reviews go put together fli...</td>\n",
       "      <td>0</td>\n",
       "    </tr>\n",
       "    <tr>\n",
       "      <th>1</th>\n",
       "      <td>looking replacement kid sized straws toss take...</td>\n",
       "      <td>0</td>\n",
       "    </tr>\n",
       "    <tr>\n",
       "      <th>2</th>\n",
       "      <td>best best stylish modern comfortable use</td>\n",
       "      <td>1</td>\n",
       "    </tr>\n",
       "    <tr>\n",
       "      <th>3</th>\n",
       "      <td>pair kidding crystalclassicscom sells pair pos...</td>\n",
       "      <td>0</td>\n",
       "    </tr>\n",
       "    <tr>\n",
       "      <th>4</th>\n",
       "      <td>works like charm definitely used useful item k...</td>\n",
       "      <td>1</td>\n",
       "    </tr>\n",
       "    <tr>\n",
       "      <th>...</th>\n",
       "      <td>...</td>\n",
       "      <td>...</td>\n",
       "    </tr>\n",
       "    <tr>\n",
       "      <th>199995</th>\n",
       "      <td>love plate stand comes looks gorgeous kitchen ...</td>\n",
       "      <td>1</td>\n",
       "    </tr>\n",
       "    <tr>\n",
       "      <th>199996</th>\n",
       "      <td>first time ever used itit broke weak metal</td>\n",
       "      <td>0</td>\n",
       "    </tr>\n",
       "    <tr>\n",
       "      <th>199997</th>\n",
       "      <td>works great seem get cloudy inside easily hard...</td>\n",
       "      <td>1</td>\n",
       "    </tr>\n",
       "    <tr>\n",
       "      <th>199998</th>\n",
       "      <td>kids love problems leaking great colors great ...</td>\n",
       "      <td>1</td>\n",
       "    </tr>\n",
       "    <tr>\n",
       "      <th>199999</th>\n",
       "      <td>works advertised easy use make great ice balls...</td>\n",
       "      <td>1</td>\n",
       "    </tr>\n",
       "  </tbody>\n",
       "</table>\n",
       "<p>186539 rows × 2 columns</p>\n",
       "</div>"
      ],
      "text/plain": [
       "                                                  reviews  label\n",
       "0       astounded positive reviews go put together fli...      0\n",
       "1       looking replacement kid sized straws toss take...      0\n",
       "2                best best stylish modern comfortable use      1\n",
       "3       pair kidding crystalclassicscom sells pair pos...      0\n",
       "4       works like charm definitely used useful item k...      1\n",
       "...                                                   ...    ...\n",
       "199995  love plate stand comes looks gorgeous kitchen ...      1\n",
       "199996         first time ever used itit broke weak metal      0\n",
       "199997  works great seem get cloudy inside easily hard...      1\n",
       "199998  kids love problems leaking great colors great ...      1\n",
       "199999  works advertised easy use make great ice balls...      1\n",
       "\n",
       "[186539 rows x 2 columns]"
      ]
     },
     "execution_count": 31,
     "metadata": {},
     "output_type": "execute_result"
    }
   ],
   "source": [
    "# Dataframe without lemmatization\n",
    "df_check = merged_df[merged_df.reviews.str.contains('[.*s]', regex = True, na = False)]\n",
    "idx_lm = df_check.index.tolist()\n",
    "df_check"
   ]
  },
  {
   "cell_type": "code",
   "execution_count": 32,
   "metadata": {},
   "outputs": [
    {
     "data": {
      "text/html": [
       "<div>\n",
       "<style scoped>\n",
       "    .dataframe tbody tr th:only-of-type {\n",
       "        vertical-align: middle;\n",
       "    }\n",
       "\n",
       "    .dataframe tbody tr th {\n",
       "        vertical-align: top;\n",
       "    }\n",
       "\n",
       "    .dataframe thead th {\n",
       "        text-align: right;\n",
       "    }\n",
       "</style>\n",
       "<table border=\"1\" class=\"dataframe\">\n",
       "  <thead>\n",
       "    <tr style=\"text-align: right;\">\n",
       "      <th></th>\n",
       "      <th>reviews</th>\n",
       "      <th>label</th>\n",
       "    </tr>\n",
       "  </thead>\n",
       "  <tbody>\n",
       "    <tr>\n",
       "      <th>0</th>\n",
       "      <td>astounded positive review go put together flim...</td>\n",
       "      <td>0</td>\n",
       "    </tr>\n",
       "    <tr>\n",
       "      <th>1</th>\n",
       "      <td>looking replacement kid sized straw toss take ...</td>\n",
       "      <td>0</td>\n",
       "    </tr>\n",
       "    <tr>\n",
       "      <th>2</th>\n",
       "      <td>best best stylish modern comfortable use</td>\n",
       "      <td>1</td>\n",
       "    </tr>\n",
       "    <tr>\n",
       "      <th>3</th>\n",
       "      <td>pair kidding crystalclassicscom sell pair poss...</td>\n",
       "      <td>0</td>\n",
       "    </tr>\n",
       "    <tr>\n",
       "      <th>4</th>\n",
       "      <td>work like charm definitely used useful item ki...</td>\n",
       "      <td>1</td>\n",
       "    </tr>\n",
       "    <tr>\n",
       "      <th>...</th>\n",
       "      <td>...</td>\n",
       "      <td>...</td>\n",
       "    </tr>\n",
       "    <tr>\n",
       "      <th>199995</th>\n",
       "      <td>love plate stand come look gorgeous kitchen wi...</td>\n",
       "      <td>1</td>\n",
       "    </tr>\n",
       "    <tr>\n",
       "      <th>199996</th>\n",
       "      <td>first time ever used itit broke weak metal</td>\n",
       "      <td>0</td>\n",
       "    </tr>\n",
       "    <tr>\n",
       "      <th>199997</th>\n",
       "      <td>work great seem get cloudy inside easily hard ...</td>\n",
       "      <td>1</td>\n",
       "    </tr>\n",
       "    <tr>\n",
       "      <th>199998</th>\n",
       "      <td>kid love problem leaking great color great price</td>\n",
       "      <td>1</td>\n",
       "    </tr>\n",
       "    <tr>\n",
       "      <th>199999</th>\n",
       "      <td>work advertised easy use make great ice ball l...</td>\n",
       "      <td>1</td>\n",
       "    </tr>\n",
       "  </tbody>\n",
       "</table>\n",
       "<p>186539 rows × 2 columns</p>\n",
       "</div>"
      ],
      "text/plain": [
       "                                                  reviews  label\n",
       "0       astounded positive review go put together flim...      0\n",
       "1       looking replacement kid sized straw toss take ...      0\n",
       "2                best best stylish modern comfortable use      1\n",
       "3       pair kidding crystalclassicscom sell pair poss...      0\n",
       "4       work like charm definitely used useful item ki...      1\n",
       "...                                                   ...    ...\n",
       "199995  love plate stand come look gorgeous kitchen wi...      1\n",
       "199996         first time ever used itit broke weak metal      0\n",
       "199997  work great seem get cloudy inside easily hard ...      1\n",
       "199998   kid love problem leaking great color great price      1\n",
       "199999  work advertised easy use make great ice ball l...      1\n",
       "\n",
       "[186539 rows x 2 columns]"
      ]
     },
     "execution_count": 32,
     "metadata": {},
     "output_type": "execute_result"
    }
   ],
   "source": [
    "lemmatizer = WordNetLemmatizer()\n",
    "merged_df['reviews'] = merged_df['reviews'].apply(lambda x: ' '.join(map(lemmatizer.lemmatize, str(x).split(' '))))\n",
    "# Dataframe after applying lemmatization\n",
    "merged_df.loc[idx_lm]"
   ]
  },
  {
   "cell_type": "markdown",
   "metadata": {},
   "source": [
    "## 3 sample reviews (After Data Cleaning + Preprocessing)"
   ]
  },
  {
   "cell_type": "code",
   "execution_count": 33,
   "metadata": {},
   "outputs": [
    {
     "data": {
      "text/html": [
       "<div>\n",
       "<style scoped>\n",
       "    .dataframe tbody tr th:only-of-type {\n",
       "        vertical-align: middle;\n",
       "    }\n",
       "\n",
       "    .dataframe tbody tr th {\n",
       "        vertical-align: top;\n",
       "    }\n",
       "\n",
       "    .dataframe thead th {\n",
       "        text-align: right;\n",
       "    }\n",
       "</style>\n",
       "<table border=\"1\" class=\"dataframe\">\n",
       "  <thead>\n",
       "    <tr style=\"text-align: right;\">\n",
       "      <th></th>\n",
       "      <th>reviews</th>\n",
       "      <th>label</th>\n",
       "    </tr>\n",
       "  </thead>\n",
       "  <tbody>\n",
       "    <tr>\n",
       "      <th>78558</th>\n",
       "      <td>bought bos always drinking cold coffee spilled...</td>\n",
       "      <td>0</td>\n",
       "    </tr>\n",
       "    <tr>\n",
       "      <th>47749</th>\n",
       "      <td>bought wedding tassel white different color da...</td>\n",
       "      <td>0</td>\n",
       "    </tr>\n",
       "    <tr>\n",
       "      <th>132770</th>\n",
       "      <td>bit concerned buying using pressure cooker I h...</td>\n",
       "      <td>1</td>\n",
       "    </tr>\n",
       "  </tbody>\n",
       "</table>\n",
       "</div>"
      ],
      "text/plain": [
       "                                                  reviews  label\n",
       "78558   bought bos always drinking cold coffee spilled...      0\n",
       "47749   bought wedding tassel white different color da...      0\n",
       "132770  bit concerned buying using pressure cooker I h...      1"
      ]
     },
     "execution_count": 33,
     "metadata": {},
     "output_type": "execute_result"
    }
   ],
   "source": [
    "# Print three sample reviews after data cleaning + preprocessing\n",
    "merged_df.sample(n = 3)"
   ]
  },
  {
   "cell_type": "markdown",
   "metadata": {},
   "source": [
    "# TF-IDF Feature Extraction"
   ]
  },
  {
   "cell_type": "markdown",
   "metadata": {},
   "source": [
    "- Used sklearn.feature_extraction.text.TfidfVectorizer to extract TF-IDF features from the dataframe."
   ]
  },
  {
   "cell_type": "code",
   "execution_count": 34,
   "metadata": {},
   "outputs": [
    {
     "data": {
      "text/plain": [
       "<200000x123747 sparse matrix of type '<class 'numpy.float64'>'\n",
       "\twith 4876721 stored elements in Compressed Sparse Row format>"
      ]
     },
     "execution_count": 34,
     "metadata": {},
     "output_type": "execute_result"
    }
   ],
   "source": [
    "vectorizer = TfidfVectorizer()\n",
    "X = vectorizer.fit_transform(merged_df['reviews'].tolist())\n",
    "X"
   ]
  },
  {
   "cell_type": "code",
   "execution_count": 35,
   "metadata": {},
   "outputs": [
    {
     "name": "stdout",
     "output_type": "stream",
     "text": [
      "  (0, 101756)\t0.13179614987844374\n",
      "  (0, 43675)\t0.1448567267770488\n",
      "  (0, 78443)\t0.14390472686177763\n",
      "  (0, 122269)\t0.15404666303332962\n",
      "  (0, 80209)\t0.24079329140860511\n",
      "  (0, 115379)\t0.1709384880672713\n",
      "  (0, 59574)\t0.1482114860496413\n",
      "  (0, 44836)\t0.12506688754016745\n",
      "  (0, 50431)\t0.17730120282551065\n",
      "  (0, 101688)\t0.15935863907067788\n",
      "  (0, 25048)\t0.27749485188101536\n",
      "  (0, 116088)\t0.26302901668500533\n",
      "  (0, 22043)\t0.24912078163892912\n",
      "  (0, 121954)\t0.12776529235377573\n",
      "  (0, 97256)\t0.12296668809133751\n",
      "  (0, 37921)\t0.19228707218401006\n",
      "  (0, 81681)\t0.1266240032324518\n",
      "  (0, 1436)\t0.1984954808746291\n",
      "  (0, 52)\t0.30695132085958976\n",
      "  (0, 60016)\t0.17469736431190996\n",
      "  (0, 95952)\t0.19053349279593082\n",
      "  (0, 43944)\t0.08760403610018937\n",
      "  (0, 48152)\t0.1288378460994497\n",
      "  (0, 40440)\t0.15559483012596312\n",
      "  (0, 110386)\t0.15324392628225256\n",
      "  :\t:\n",
      "  (199998, 62037)\t0.2520286541370574\n",
      "  (199998, 45770)\t0.43573676141520185\n",
      "  (199998, 57414)\t0.43082927193896586\n",
      "  (199999, 12385)\t0.332893375081968\n",
      "  (199999, 51424)\t0.19121547564676794\n",
      "  (199999, 12384)\t0.24725856393113743\n",
      "  (199999, 25216)\t0.16235740372822788\n",
      "  (199999, 49629)\t0.1314280434175308\n",
      "  (199999, 6861)\t0.18445052238492388\n",
      "  (199999, 115862)\t0.15093628663719588\n",
      "  (199999, 8126)\t0.3365768691720886\n",
      "  (199999, 106177)\t0.12934335731592456\n",
      "  (199999, 1127)\t0.146802736562313\n",
      "  (199999, 83727)\t0.07650644083229305\n",
      "  (199999, 87426)\t0.10016446877816221\n",
      "  (199999, 51513)\t0.13437662426639535\n",
      "  (199999, 33283)\t0.09078641989400336\n",
      "  (199999, 63216)\t0.0812602161319867\n",
      "  (199999, 51394)\t0.6402658931636748\n",
      "  (199999, 63246)\t0.11641817513285822\n",
      "  (199999, 68608)\t0.09084885306203357\n",
      "  (199999, 45770)\t0.07187430693115444\n",
      "  (199999, 60587)\t0.07540292043131762\n",
      "  (199999, 121412)\t0.07590224774460942\n",
      "  (199999, 115192)\t0.20574663181836186\n"
     ]
    }
   ],
   "source": [
    "print(X)"
   ]
  },
  {
   "cell_type": "markdown",
   "metadata": {},
   "source": [
    "## Splitting the dataset into Train and Test"
   ]
  },
  {
   "cell_type": "markdown",
   "metadata": {},
   "source": [
    "- Used sklearn.model_selection.train_test_split to split the dataset into training and testing dataset. "
   ]
  },
  {
   "cell_type": "code",
   "execution_count": 36,
   "metadata": {
    "scrolled": true
   },
   "outputs": [],
   "source": [
    "# Split your dataset into 80% training dataset and 20% testing dataset.\n",
    "X_train, X_test, y_train, y_test = train_test_split(X, merged_df['label'].to_numpy().reshape(-1, 1), train_size = 0.8, random_state = 42)"
   ]
  },
  {
   "cell_type": "code",
   "execution_count": 37,
   "metadata": {},
   "outputs": [
    {
     "name": "stdout",
     "output_type": "stream",
     "text": [
      "Train size (features): (160000, 123747)\n",
      "Test size (features): (40000, 123747)\n",
      "Train size (label): (160000, 1)\n",
      "Test size: (label): (40000, 1)\n"
     ]
    }
   ],
   "source": [
    "print(\"Train size (features):\",X_train.shape)\n",
    "print(\"Test size (features):\",X_test.shape)\n",
    "print(\"Train size (label):\",y_train.shape)\n",
    "print(\"Test size: (label):\",y_test.shape)"
   ]
  },
  {
   "cell_type": "markdown",
   "metadata": {},
   "source": [
    "## Function to compute metrics"
   ]
  },
  {
   "cell_type": "markdown",
   "metadata": {},
   "source": [
    "- Created function that uses accuracy_score, precision_score, recall_score and f1_score methods from sklearn.metrics module to get the metrics."
   ]
  },
  {
   "cell_type": "code",
   "execution_count": 38,
   "metadata": {},
   "outputs": [],
   "source": [
    "def compute_scores(text, y_true, y_pred):\n",
    "    accuracy = accuracy_score(y_true, y_pred)\n",
    "    precision = precision_score(y_true, y_pred)\n",
    "    recall = recall_score(y_true, y_pred)\n",
    "    f1score = f1_score(y_true, y_pred)\n",
    "    print(\"{} Metrics:\\nAccuracy = {}\\nPrecision = {}\\nRecall = {}\\nF1-score = {}\\n\".format(text, accuracy, precision, recall, f1score))"
   ]
  },
  {
   "cell_type": "markdown",
   "metadata": {},
   "source": [
    "# Perceptron"
   ]
  },
  {
   "cell_type": "markdown",
   "metadata": {},
   "source": [
    "- Used sklearn.linear_model.Perceptron to train a Perceptron model on the training dataset."
   ]
  },
  {
   "cell_type": "code",
   "execution_count": 39,
   "metadata": {},
   "outputs": [
    {
     "name": "stdout",
     "output_type": "stream",
     "text": [
      "Train Metrics:\n",
      "Accuracy = 0.916625\n",
      "Precision = 0.9293057968217204\n",
      "Recall = 0.9020070690796458\n",
      "F1-score = 0.9154529667515939\n",
      "\n",
      "Test Metrics:\n",
      "Accuracy = 0.853075\n",
      "Precision = 0.8656227239621267\n",
      "Recall = 0.834746400441479\n",
      "F1-score = 0.849904226790959\n",
      "\n"
     ]
    }
   ],
   "source": [
    "model = Perceptron()\n",
    "model.fit(X_train, y_train.ravel())\n",
    "\n",
    "# make a prediction\n",
    "ytrain_pred = model.predict(X_train)\n",
    "ytest_pred = model.predict(X_test)\n",
    "\n",
    "#calculate metrics\n",
    "compute_scores(\"Train\", y_train, ytrain_pred)\n",
    "compute_scores(\"Test\", y_test, ytest_pred)"
   ]
  },
  {
   "cell_type": "markdown",
   "metadata": {},
   "source": [
    "# SVM"
   ]
  },
  {
   "cell_type": "markdown",
   "metadata": {},
   "source": [
    "- Used sklearn.svm.LinearSVC to train a SVM model on the training dataset with max_iter set to 10000 i.e. increased the number of iterations to help the model to converge. \n",
    "- Used sklearn.preprocessing.StandardScaler to standardize features by removing the mean and scaling to unit variance, with option with_mean = False as we are dealing with features of type sparse matrices.\n",
    "- Used sklearn.pipeline.make_pipeline to construct a pipeline for the given estimators."
   ]
  },
  {
   "cell_type": "code",
   "execution_count": 40,
   "metadata": {},
   "outputs": [
    {
     "name": "stdout",
     "output_type": "stream",
     "text": [
      "Train Metrics:\n",
      "Accuracy = 0.94975625\n",
      "Precision = 0.9486943087810227\n",
      "Recall = 0.9510285136198434\n",
      "F1-score = 0.9498599771722249\n",
      "\n",
      "Test Metrics:\n",
      "Accuracy = 0.845025\n",
      "Precision = 0.8422206717831158\n",
      "Recall = 0.8478402648873727\n",
      "F1-score = 0.8450211255281382\n",
      "\n"
     ]
    }
   ],
   "source": [
    "clf = make_pipeline(StandardScaler(with_mean=False), LinearSVC(max_iter=10000))\n",
    "clf.fit(X_train, y_train.ravel())\n",
    "\n",
    "# make a prediction\n",
    "ytrain_pred = clf.predict(X_train)\n",
    "ytest_pred = clf.predict(X_test)\n",
    "\n",
    "#calculate metrics\n",
    "compute_scores(\"Train\", y_train, ytrain_pred)\n",
    "compute_scores(\"Test\", y_test, ytest_pred)"
   ]
  },
  {
   "cell_type": "markdown",
   "metadata": {},
   "source": [
    "# Logistic Regression"
   ]
  },
  {
   "cell_type": "markdown",
   "metadata": {},
   "source": [
    "- Used sklearn.linear_model.LogisticRegression to train a Logistic Regression model on the training dataset."
   ]
  },
  {
   "cell_type": "code",
   "execution_count": 41,
   "metadata": {},
   "outputs": [
    {
     "name": "stdout",
     "output_type": "stream",
     "text": [
      "Train Metrics:\n",
      "Accuracy = 0.9153125\n",
      "Precision = 0.9188780715122357\n",
      "Recall = 0.9112118600671937\n",
      "F1-score = 0.9150289089837332\n",
      "\n",
      "Test Metrics:\n",
      "Accuracy = 0.8945\n",
      "Precision = 0.8981805281029851\n",
      "Recall = 0.8890784126824863\n",
      "F1-score = 0.8936062928600241\n",
      "\n"
     ]
    }
   ],
   "source": [
    "clf = LogisticRegression(max_iter = 500).fit(X_train, y_train.ravel())\n",
    "\n",
    "# make a prediction\n",
    "ytrain_pred = clf.predict(X_train)\n",
    "ytest_pred = clf.predict(X_test)\n",
    "\n",
    "#calculate metrics\n",
    "compute_scores(\"Train\", y_train, ytrain_pred)\n",
    "compute_scores(\"Test\", y_test, ytest_pred)"
   ]
  },
  {
   "cell_type": "markdown",
   "metadata": {},
   "source": [
    "# Naive Bayes"
   ]
  },
  {
   "cell_type": "markdown",
   "metadata": {},
   "source": [
    "- Used sklearn.naive_bayes.MultinomialNB to train a Multinomial Naive Bayes model on the training dataset."
   ]
  },
  {
   "cell_type": "code",
   "execution_count": 42,
   "metadata": {
    "scrolled": true
   },
   "outputs": [
    {
     "name": "stdout",
     "output_type": "stream",
     "text": [
      "Train Metrics:\n",
      "Accuracy = 0.8897\n",
      "Precision = 0.9017855993408602\n",
      "Recall = 0.8748672986373912\n",
      "F1-score = 0.8881225276397201\n",
      "\n",
      "Test Metrics:\n",
      "Accuracy = 0.8688\n",
      "Precision = 0.8793593386721777\n",
      "Recall = 0.8538604324487031\n",
      "F1-score = 0.8664223172469966\n",
      "\n"
     ]
    }
   ],
   "source": [
    "clf = MultinomialNB().fit(X_train, y_train.ravel())\n",
    "ytrain_pred = clf.predict(X_train)\n",
    "ytest_pred = clf.predict(X_test)\n",
    "\n",
    "#calculate metrics\n",
    "compute_scores(\"Train\", y_train, ytrain_pred)\n",
    "compute_scores(\"Test\", y_test, ytest_pred)"
   ]
  },
  {
   "cell_type": "code",
   "execution_count": 43,
   "metadata": {},
   "outputs": [],
   "source": [
    "# !pip install nbconvert"
   ]
  },
  {
   "cell_type": "code",
   "execution_count": 44,
   "metadata": {
    "scrolled": true
   },
   "outputs": [],
   "source": [
    "# !jupyter nbconvert --Application.log_level=CRITICAL --to pdf \"C:/Users/saini/OneDrive/Documents/Courses/CSCI 544 (Natural Language Processing)/Homeworks/HW1\""
   ]
  }
 ],
 "metadata": {
  "kernelspec": {
   "display_name": "Python 3",
   "language": "python",
   "name": "python3"
  },
  "language_info": {
   "codemirror_mode": {
    "name": "ipython",
    "version": 3
   },
   "file_extension": ".py",
   "mimetype": "text/x-python",
   "name": "python",
   "nbconvert_exporter": "python",
   "pygments_lexer": "ipython3",
   "version": "3.8.8"
  },
  "toc": {
   "base_numbering": 1,
   "nav_menu": {},
   "number_sections": true,
   "sideBar": true,
   "skip_h1_title": false,
   "title_cell": "Table of Contents",
   "title_sidebar": "Contents",
   "toc_cell": false,
   "toc_position": {},
   "toc_section_display": true,
   "toc_window_display": false
  }
 },
 "nbformat": 4,
 "nbformat_minor": 4
}
